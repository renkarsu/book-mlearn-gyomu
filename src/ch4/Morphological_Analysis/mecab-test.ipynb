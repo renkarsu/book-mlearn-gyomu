{
 "cells": [
  {
   "cell_type": "code",
   "execution_count": 2,
   "metadata": {},
   "outputs": [
    {
     "name": "stdout",
     "output_type": "stream",
     "text": [
      "メイ\t名詞,一般,*,*,*,*,*\n",
      "が\t助詞,格助詞,一般,*,*,*,が,ガ,ガ\n",
      "恋\t名詞,一般,*,*,*,*,恋,コイ,コイ\n",
      "ダンス\t名詞,サ変接続,*,*,*,*,ダンス,ダンス,ダンス\n",
      "を\t助詞,格助詞,一般,*,*,*,を,ヲ,ヲ\n",
      "踊っ\t動詞,自立,*,*,五段・ラ行,連用タ接続,踊る,オドッ,オドッ\n",
      "て\t助詞,接続助詞,*,*,*,*,て,テ,テ\n",
      "いる\t動詞,非自立,*,*,一段,基本形,いる,イル,イル\n",
      "。\t記号,句点,*,*,*,*,。,。,。\n",
      "EOS\n",
      "\n"
     ]
    }
   ],
   "source": [
    "import MeCab\n",
    "# MeCabオブジェクトの生成 --- (*1)\n",
    "tagger = MeCab.Tagger()\n",
    "# 形態素解析 --- (*2)\n",
    "result = tagger.parse(\"メイが恋ダンスを踊っている。\")\n",
    "print(result)"
   ]
  },
  {
   "cell_type": "code",
   "execution_count": 3,
   "metadata": {},
   "outputs": [
    {
     "name": "stdout",
     "output_type": "stream",
     "text": [
      "メイ\t名詞,固有名詞,人名,一般,*,*,M.A.Y,メイ,メイ\n",
      "が\t助詞,格助詞,一般,*,*,*,が,ガ,ガ\n",
      "恋ダンス\t名詞,固有名詞,一般,*,*,*,恋ダンス,コイダンス,コイダンス\n",
      "を\t助詞,格助詞,一般,*,*,*,を,ヲ,ヲ\n",
      "踊っ\t動詞,自立,*,*,五段・ラ行,連用タ接続,踊る,オドッ,オドッ\n",
      "て\t助詞,接続助詞,*,*,*,*,て,テ,テ\n",
      "いる\t動詞,非自立,*,*,一段,基本形,いる,イル,イル\n",
      "。\t記号,句点,*,*,*,*,。,。,。\n",
      "EOS\n",
      "\n"
     ]
    }
   ],
   "source": [
    "import MeCab\n",
    "# mecab-ipadic-NEologd辞書を指定して、MeCabオブジェクトの生成 --- (*1)\n",
    "tagger = MeCab.Tagger(\"-d /var/lib/mecab/dic/mecab-ipadic-neologd\")\n",
    "# 形態素解析\n",
    "result = tagger.parse(\"メイが恋ダンスを踊っている。\")\n",
    "print(result)"
   ]
  },
  {
   "cell_type": "code",
   "execution_count": 4,
   "metadata": {},
   "outputs": [
    {
     "name": "stdout",
     "output_type": "stream",
     "text": [
      "['メイ', '恋ダンス', '踊る', 'いる']\n"
     ]
    }
   ],
   "source": [
    "import MeCab\n",
    "tagger = MeCab.Tagger(\"-d /var/lib/mecab/dic/mecab-ipadic-neologd\")\n",
    "tagger.parse(\"\") \n",
    "# 形態素解析結果をリストで取得 --- (*1)\n",
    "node = tagger.parseToNode(\"メイが恋ダンスを踊っている。\")\n",
    "\n",
    "result = []\n",
    "while node is not None:\n",
    "    # 品詞情報取得 --- (*2)\n",
    "    hinshi = node.feature.split(\",\")[0]\n",
    "    if  hinshi in [\"名詞\"]:\n",
    "        # 表層形の取得 --- (*3)\n",
    "        result.append(node.surface)\n",
    "    elif hinshi in [\"動詞\", \"形容詞\"]:\n",
    "        # 形態素情報から原形情報を取得 --- (*4)\n",
    "        result.append(node.feature.split(\",\")[6])\n",
    "    node = node.next\n",
    "    \n",
    "print(result)"
   ]
  }
 ],
 "metadata": {
  "kernelspec": {
   "display_name": "Python 3",
   "language": "python",
   "name": "python3"
  },
  "language_info": {
   "codemirror_mode": {
    "name": "ipython",
    "version": 3
   },
   "file_extension": ".py",
   "mimetype": "text/x-python",
   "name": "python",
   "nbconvert_exporter": "python",
   "pygments_lexer": "ipython3",
   "version": "3.5.4"
  }
 },
 "nbformat": 4,
 "nbformat_minor": 2
}
